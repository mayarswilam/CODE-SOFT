{
 "cells": [
  {
   "cell_type": "code",
   "execution_count": 1,
   "id": "8d1fa174",
   "metadata": {
    "_cell_guid": "b1076dfc-b9ad-4769-8c92-a6c4dae69d19",
    "_uuid": "8f2839f25d086af736a60e9eeb907d3b93b6e0e5",
    "execution": {
     "iopub.execute_input": "2023-08-24T01:57:33.521112Z",
     "iopub.status.busy": "2023-08-24T01:57:33.520740Z",
     "iopub.status.idle": "2023-08-24T01:57:33.538785Z",
     "shell.execute_reply": "2023-08-24T01:57:33.537609Z"
    },
    "papermill": {
     "duration": 0.029143,
     "end_time": "2023-08-24T01:57:33.541235",
     "exception": false,
     "start_time": "2023-08-24T01:57:33.512092",
     "status": "completed"
    },
    "tags": []
   },
   "outputs": [
    {
     "name": "stdout",
     "output_type": "stream",
     "text": [
      "/kaggle/input/sms-spam-collection-dataset/spam.csv\n"
     ]
    }
   ],
   "source": [
    "# This Python 3 environment comes with many helpful analytics libraries installed\n",
    "# It is defined by the kaggle/python Docker image: https://github.com/kaggle/docker-python\n",
    "# For example, here's several helpful packages to load\n",
    "\n",
    "import numpy as np # linear algebra\n",
    "import pandas as pd # data processing, CSV file I/O (e.g. pd.read_csv)\n",
    "\n",
    "# Input data files are available in the read-only \"../input/\" directory\n",
    "# For example, running this (by clicking run or pressing Shift+Enter) will list all files under the input directory\n",
    "\n",
    "import os\n",
    "for dirname, _, filenames in os.walk('/kaggle/input'):\n",
    "    for filename in filenames:\n",
    "        print(os.path.join(dirname, filename))\n",
    "\n",
    "# You can write up to 20GB to the current directory (/kaggle/working/) that gets preserved as output when you create a version using \"Save & Run All\" \n",
    "# You can also write temporary files to /kaggle/temp/, but they won't be saved outside of the current session"
   ]
  },
  {
   "cell_type": "markdown",
   "id": "b3675ce3",
   "metadata": {
    "papermill": {
     "duration": 0.006011,
     "end_time": "2023-08-24T01:57:33.553975",
     "exception": false,
     "start_time": "2023-08-24T01:57:33.547964",
     "status": "completed"
    },
    "tags": []
   },
   "source": [
    "Import Libraries and Load Data"
   ]
  },
  {
   "cell_type": "code",
   "execution_count": 2,
   "id": "feb2b976",
   "metadata": {
    "execution": {
     "iopub.execute_input": "2023-08-24T01:57:33.568219Z",
     "iopub.status.busy": "2023-08-24T01:57:33.567826Z",
     "iopub.status.idle": "2023-08-24T01:57:34.931927Z",
     "shell.execute_reply": "2023-08-24T01:57:34.930714Z"
    },
    "papermill": {
     "duration": 1.374721,
     "end_time": "2023-08-24T01:57:34.934912",
     "exception": false,
     "start_time": "2023-08-24T01:57:33.560191",
     "status": "completed"
    },
    "tags": []
   },
   "outputs": [
    {
     "name": "stderr",
     "output_type": "stream",
     "text": [
      "/opt/conda/lib/python3.10/site-packages/scipy/__init__.py:146: UserWarning: A NumPy version >=1.16.5 and <1.23.0 is required for this version of SciPy (detected version 1.23.5\n",
      "  warnings.warn(f\"A NumPy version >={np_minversion} and <{np_maxversion}\"\n"
     ]
    }
   ],
   "source": [
    "import pandas as pd\n",
    "from sklearn.model_selection import train_test_split\n",
    "from sklearn.feature_extraction.text import TfidfVectorizer\n",
    "from sklearn.naive_bayes import MultinomialNB\n",
    "from sklearn.metrics import accuracy_score, classification_report\n",
    "\n",
    "#dataset Load the \n",
    "data = pd.read_csv('/kaggle/input/sms-spam-collection-dataset/spam.csv', encoding='ISO-8859-1')"
   ]
  },
  {
   "cell_type": "markdown",
   "id": "6354774c",
   "metadata": {
    "papermill": {
     "duration": 0.006152,
     "end_time": "2023-08-24T01:57:34.947790",
     "exception": false,
     "start_time": "2023-08-24T01:57:34.941638",
     "status": "completed"
    },
    "tags": []
   },
   "source": [
    " Data Preprocessing"
   ]
  },
  {
   "cell_type": "code",
   "execution_count": 3,
   "id": "d2365bc3",
   "metadata": {
    "execution": {
     "iopub.execute_input": "2023-08-24T01:57:34.962473Z",
     "iopub.status.busy": "2023-08-24T01:57:34.962067Z",
     "iopub.status.idle": "2023-08-24T01:57:34.985312Z",
     "shell.execute_reply": "2023-08-24T01:57:34.984381Z"
    },
    "papermill": {
     "duration": 0.033667,
     "end_time": "2023-08-24T01:57:34.987891",
     "exception": false,
     "start_time": "2023-08-24T01:57:34.954224",
     "status": "completed"
    },
    "tags": []
   },
   "outputs": [],
   "source": [
    "# Select relevant columns\n",
    "data = data[['v1', 'v2']]\n",
    "data.columns = ['label', 'text']\n",
    "\n",
    "# Convert labels to binary (0 for ham, 1 for spam)\n",
    "data['label'] = data['label'].map({'ham': 0, 'spam': 1})\n",
    "\n",
    "# Split the data into training and testing sets\n",
    "X_train, X_test, y_train, y_test = train_test_split(data['text'], data['label'], test_size=0.2, random_state=42)"
   ]
  },
  {
   "cell_type": "markdown",
   "id": "4f8807f5",
   "metadata": {
    "papermill": {
     "duration": 0.00625,
     "end_time": "2023-08-24T01:57:35.000711",
     "exception": false,
     "start_time": "2023-08-24T01:57:34.994461",
     "status": "completed"
    },
    "tags": []
   },
   "source": [
    "Text Vectorization (TF-IDF)"
   ]
  },
  {
   "cell_type": "code",
   "execution_count": 4,
   "id": "51dc2a78",
   "metadata": {
    "execution": {
     "iopub.execute_input": "2023-08-24T01:57:35.015928Z",
     "iopub.status.busy": "2023-08-24T01:57:35.015010Z",
     "iopub.status.idle": "2023-08-24T01:57:35.142393Z",
     "shell.execute_reply": "2023-08-24T01:57:35.141252Z"
    },
    "papermill": {
     "duration": 0.13821,
     "end_time": "2023-08-24T01:57:35.145383",
     "exception": false,
     "start_time": "2023-08-24T01:57:35.007173",
     "status": "completed"
    },
    "tags": []
   },
   "outputs": [],
   "source": [
    "tfidf_vectorizer = TfidfVectorizer(max_features=5000)  # You can adjust the max_features parameter\n",
    "X_train_tfidf = tfidf_vectorizer.fit_transform(X_train)\n",
    "X_test_tfidf = tfidf_vectorizer.transform(X_test)"
   ]
  },
  {
   "cell_type": "markdown",
   "id": "ffebc5be",
   "metadata": {
    "papermill": {
     "duration": 0.006886,
     "end_time": "2023-08-24T01:57:35.160980",
     "exception": false,
     "start_time": "2023-08-24T01:57:35.154094",
     "status": "completed"
    },
    "tags": []
   },
   "source": [
    "Model Selection and Training"
   ]
  },
  {
   "cell_type": "code",
   "execution_count": 5,
   "id": "c1c2be3e",
   "metadata": {
    "execution": {
     "iopub.execute_input": "2023-08-24T01:57:35.176245Z",
     "iopub.status.busy": "2023-08-24T01:57:35.175805Z",
     "iopub.status.idle": "2023-08-24T01:57:35.196074Z",
     "shell.execute_reply": "2023-08-24T01:57:35.194947Z"
    },
    "papermill": {
     "duration": 0.030953,
     "end_time": "2023-08-24T01:57:35.198598",
     "exception": false,
     "start_time": "2023-08-24T01:57:35.167645",
     "status": "completed"
    },
    "tags": []
   },
   "outputs": [
    {
     "data": {
      "text/html": [
       "<style>#sk-container-id-1 {color: black;background-color: white;}#sk-container-id-1 pre{padding: 0;}#sk-container-id-1 div.sk-toggleable {background-color: white;}#sk-container-id-1 label.sk-toggleable__label {cursor: pointer;display: block;width: 100%;margin-bottom: 0;padding: 0.3em;box-sizing: border-box;text-align: center;}#sk-container-id-1 label.sk-toggleable__label-arrow:before {content: \"▸\";float: left;margin-right: 0.25em;color: #696969;}#sk-container-id-1 label.sk-toggleable__label-arrow:hover:before {color: black;}#sk-container-id-1 div.sk-estimator:hover label.sk-toggleable__label-arrow:before {color: black;}#sk-container-id-1 div.sk-toggleable__content {max-height: 0;max-width: 0;overflow: hidden;text-align: left;background-color: #f0f8ff;}#sk-container-id-1 div.sk-toggleable__content pre {margin: 0.2em;color: black;border-radius: 0.25em;background-color: #f0f8ff;}#sk-container-id-1 input.sk-toggleable__control:checked~div.sk-toggleable__content {max-height: 200px;max-width: 100%;overflow: auto;}#sk-container-id-1 input.sk-toggleable__control:checked~label.sk-toggleable__label-arrow:before {content: \"▾\";}#sk-container-id-1 div.sk-estimator input.sk-toggleable__control:checked~label.sk-toggleable__label {background-color: #d4ebff;}#sk-container-id-1 div.sk-label input.sk-toggleable__control:checked~label.sk-toggleable__label {background-color: #d4ebff;}#sk-container-id-1 input.sk-hidden--visually {border: 0;clip: rect(1px 1px 1px 1px);clip: rect(1px, 1px, 1px, 1px);height: 1px;margin: -1px;overflow: hidden;padding: 0;position: absolute;width: 1px;}#sk-container-id-1 div.sk-estimator {font-family: monospace;background-color: #f0f8ff;border: 1px dotted black;border-radius: 0.25em;box-sizing: border-box;margin-bottom: 0.5em;}#sk-container-id-1 div.sk-estimator:hover {background-color: #d4ebff;}#sk-container-id-1 div.sk-parallel-item::after {content: \"\";width: 100%;border-bottom: 1px solid gray;flex-grow: 1;}#sk-container-id-1 div.sk-label:hover label.sk-toggleable__label {background-color: #d4ebff;}#sk-container-id-1 div.sk-serial::before {content: \"\";position: absolute;border-left: 1px solid gray;box-sizing: border-box;top: 0;bottom: 0;left: 50%;z-index: 0;}#sk-container-id-1 div.sk-serial {display: flex;flex-direction: column;align-items: center;background-color: white;padding-right: 0.2em;padding-left: 0.2em;position: relative;}#sk-container-id-1 div.sk-item {position: relative;z-index: 1;}#sk-container-id-1 div.sk-parallel {display: flex;align-items: stretch;justify-content: center;background-color: white;position: relative;}#sk-container-id-1 div.sk-item::before, #sk-container-id-1 div.sk-parallel-item::before {content: \"\";position: absolute;border-left: 1px solid gray;box-sizing: border-box;top: 0;bottom: 0;left: 50%;z-index: -1;}#sk-container-id-1 div.sk-parallel-item {display: flex;flex-direction: column;z-index: 1;position: relative;background-color: white;}#sk-container-id-1 div.sk-parallel-item:first-child::after {align-self: flex-end;width: 50%;}#sk-container-id-1 div.sk-parallel-item:last-child::after {align-self: flex-start;width: 50%;}#sk-container-id-1 div.sk-parallel-item:only-child::after {width: 0;}#sk-container-id-1 div.sk-dashed-wrapped {border: 1px dashed gray;margin: 0 0.4em 0.5em 0.4em;box-sizing: border-box;padding-bottom: 0.4em;background-color: white;}#sk-container-id-1 div.sk-label label {font-family: monospace;font-weight: bold;display: inline-block;line-height: 1.2em;}#sk-container-id-1 div.sk-label-container {text-align: center;}#sk-container-id-1 div.sk-container {/* jupyter's `normalize.less` sets `[hidden] { display: none; }` but bootstrap.min.css set `[hidden] { display: none !important; }` so we also need the `!important` here to be able to override the default hidden behavior on the sphinx rendered scikit-learn.org. See: https://github.com/scikit-learn/scikit-learn/issues/21755 */display: inline-block !important;position: relative;}#sk-container-id-1 div.sk-text-repr-fallback {display: none;}</style><div id=\"sk-container-id-1\" class=\"sk-top-container\"><div class=\"sk-text-repr-fallback\"><pre>MultinomialNB()</pre><b>In a Jupyter environment, please rerun this cell to show the HTML representation or trust the notebook. <br />On GitHub, the HTML representation is unable to render, please try loading this page with nbviewer.org.</b></div><div class=\"sk-container\" hidden><div class=\"sk-item\"><div class=\"sk-estimator sk-toggleable\"><input class=\"sk-toggleable__control sk-hidden--visually\" id=\"sk-estimator-id-1\" type=\"checkbox\" checked><label for=\"sk-estimator-id-1\" class=\"sk-toggleable__label sk-toggleable__label-arrow\">MultinomialNB</label><div class=\"sk-toggleable__content\"><pre>MultinomialNB()</pre></div></div></div></div></div>"
      ],
      "text/plain": [
       "MultinomialNB()"
      ]
     },
     "execution_count": 5,
     "metadata": {},
     "output_type": "execute_result"
    }
   ],
   "source": [
    "model = MultinomialNB()\n",
    "model.fit(X_train_tfidf, y_train)"
   ]
  },
  {
   "cell_type": "markdown",
   "id": "19087bba",
   "metadata": {
    "papermill": {
     "duration": 0.006261,
     "end_time": "2023-08-24T01:57:35.211562",
     "exception": false,
     "start_time": "2023-08-24T01:57:35.205301",
     "status": "completed"
    },
    "tags": []
   },
   "source": [
    "Model Evaluation"
   ]
  },
  {
   "cell_type": "code",
   "execution_count": 6,
   "id": "b1134212",
   "metadata": {
    "execution": {
     "iopub.execute_input": "2023-08-24T01:57:35.226978Z",
     "iopub.status.busy": "2023-08-24T01:57:35.226280Z",
     "iopub.status.idle": "2023-08-24T01:57:35.242306Z",
     "shell.execute_reply": "2023-08-24T01:57:35.241182Z"
    },
    "papermill": {
     "duration": 0.026908,
     "end_time": "2023-08-24T01:57:35.245031",
     "exception": false,
     "start_time": "2023-08-24T01:57:35.218123",
     "status": "completed"
    },
    "tags": []
   },
   "outputs": [
    {
     "name": "stdout",
     "output_type": "stream",
     "text": [
      "Accuracy: 0.97\n",
      "Classification Report:\n",
      "               precision    recall  f1-score   support\n",
      "\n",
      "           0       0.96      1.00      0.98       965\n",
      "           1       1.00      0.75      0.86       150\n",
      "\n",
      "    accuracy                           0.97      1115\n",
      "   macro avg       0.98      0.88      0.92      1115\n",
      "weighted avg       0.97      0.97      0.96      1115\n",
      "\n"
     ]
    }
   ],
   "source": [
    "y_pred = model.predict(X_test_tfidf)\n",
    "accuracy = accuracy_score(y_test, y_pred)\n",
    "classification_rep = classification_report(y_test, y_pred)\n",
    "\n",
    "print(f\"Accuracy: {accuracy:.2f}\")\n",
    "print(\"Classification Report:\\n\", classification_rep)"
   ]
  },
  {
   "cell_type": "markdown",
   "id": "075f5692",
   "metadata": {
    "papermill": {
     "duration": 0.006931,
     "end_time": "2023-08-24T01:57:35.259176",
     "exception": false,
     "start_time": "2023-08-24T01:57:35.252245",
     "status": "completed"
    },
    "tags": []
   },
   "source": [
    "Interpretation and Further Analysis"
   ]
  },
  {
   "cell_type": "code",
   "execution_count": 7,
   "id": "2f422b20",
   "metadata": {
    "execution": {
     "iopub.execute_input": "2023-08-24T01:57:35.276620Z",
     "iopub.status.busy": "2023-08-24T01:57:35.275059Z",
     "iopub.status.idle": "2023-08-24T01:57:36.003925Z",
     "shell.execute_reply": "2023-08-24T01:57:36.002518Z"
    },
    "papermill": {
     "duration": 0.740513,
     "end_time": "2023-08-24T01:57:36.006777",
     "exception": false,
     "start_time": "2023-08-24T01:57:35.266264",
     "status": "completed"
    },
    "tags": []
   },
   "outputs": [
    {
     "data": {
      "image/png": "[encoded data removed]",
      "text/plain": [
       "<Figure size 640x480 with 2 Axes>"
      ]
     },
     "metadata": {},
     "output_type": "display_data"
    }
   ],
   "source": [
    "from sklearn.metrics import confusion_matrix\n",
    "import seaborn as sns\n",
    "import matplotlib.pyplot as plt\n",
    "\n",
    "conf_matrix = confusion_matrix(y_test, y_pred)\n",
    "sns.heatmap(conf_matrix, annot=True, fmt='d', cmap='Blues')\n",
    "plt.xlabel('Predicted')\n",
    "plt.ylabel('Actual')\n",
    "plt.title('Confusion Matrix')\n",
    "plt.show()"
   ]
  },
  {
   "cell_type": "code",
   "execution_count": 8,
   "id": "38360c66",
   "metadata": {
    "execution": {
     "iopub.execute_input": "2023-08-24T01:57:36.023915Z",
     "iopub.status.busy": "2023-08-24T01:57:36.022801Z",
     "iopub.status.idle": "2023-08-24T01:57:36.032649Z",
     "shell.execute_reply": "2023-08-24T01:57:36.031113Z"
    },
    "papermill": {
     "duration": 0.0215,
     "end_time": "2023-08-24T01:57:36.035481",
     "exception": false,
     "start_time": "2023-08-24T01:57:36.013981",
     "status": "completed"
    },
    "tags": []
   },
   "outputs": [
    {
     "name": "stdout",
     "output_type": "stream",
     "text": [
      "Predicted: 0\n",
      "Actual: 1\n",
      "Message: We know someone who you know that fancies you. Call 09058097218 to find out who. POBox 6, LS15HB 150p\n",
      "\n",
      "Predicted: 0\n",
      "Actual: 1\n",
      "Message: Hi I'm sue. I am 20 years old and work as a lapdancer. I love sex. Text me live - I'm i my bedroom now. text SUE to 89555. By TextOperator G2 1DA 150ppmsg 18+\n",
      "\n",
      "Predicted: 0\n",
      "Actual: 1\n",
      "Message: Loans for any purpose even if you have Bad Credit! Tenants Welcome. Call NoWorriesLoans.com on 08717111821\n",
      "\n",
      "Predicted: 0\n",
      "Actual: 1\n",
      "Message: ringtoneking 84484\n",
      "\n",
      "Predicted: 0\n",
      "Actual: 1\n",
      "Message: U have a secret admirer who is looking 2 make contact with U-find out who they R*reveal who thinks UR so special-call on 09058094594\n",
      "\n"
     ]
    }
   ],
   "source": [
    "misclassified_examples = X_test[y_test != y_pred]\n",
    "misclassified_actual_labels = y_test[y_test != y_pred]\n",
    "misclassified_predicted_labels = y_pred[y_test != y_pred]\n",
    "\n",
    "for i in range(min(5, len(misclassified_examples))):\n",
    "    print(\"Predicted:\", misclassified_predicted_labels[i])\n",
    "    print(\"Actual:\", misclassified_actual_labels.iloc[i])\n",
    "    print(\"Message:\", misclassified_examples.iloc[i])\n",
    "    print()"
   ]
  },
  {
   "cell_type": "markdown",
   "id": "cd0e6949",
   "metadata": {
    "papermill": {
     "duration": 0.007236,
     "end_time": "2023-08-24T01:57:36.050116",
     "exception": false,
     "start_time": "2023-08-24T01:57:36.042880",
     "status": "completed"
    },
    "tags": []
   },
   "source": [
    "Advanced Text Preprocessing"
   ]
  },
  {
   "cell_type": "code",
   "execution_count": 9,
   "id": "07c0db6e",
   "metadata": {
    "execution": {
     "iopub.execute_input": "2023-08-24T01:57:36.067063Z",
     "iopub.status.busy": "2023-08-24T01:57:36.066656Z",
     "iopub.status.idle": "2023-08-24T01:58:38.012208Z",
     "shell.execute_reply": "2023-08-24T01:58:38.010743Z"
    },
    "papermill": {
     "duration": 61.965277,
     "end_time": "2023-08-24T01:58:38.022763",
     "exception": false,
     "start_time": "2023-08-24T01:57:36.057486",
     "status": "completed"
    },
    "tags": []
   },
   "outputs": [
    {
     "name": "stderr",
     "output_type": "stream",
     "text": [
      "/opt/conda/lib/python3.10/site-packages/tensorflow_io/python/ops/__init__.py:98: UserWarning: unable to load libtensorflow_io_plugins.so: unable to open file: libtensorflow_io_plugins.so, from paths: ['/opt/conda/lib/python3.10/site-packages/tensorflow_io/python/ops/libtensorflow_io_plugins.so']\n",
      "caused by: ['/opt/conda/lib/python3.10/site-packages/tensorflow_io/python/ops/libtensorflow_io_plugins.so: undefined symbol: _ZN3tsl6StatusC1EN10tensorflow5error4CodeESt17basic_string_viewIcSt11char_traitsIcEENS_14SourceLocationE']\n",
      "  warnings.warn(f\"unable to load libtensorflow_io_plugins.so: {e}\")\n",
      "/opt/conda/lib/python3.10/site-packages/tensorflow_io/python/ops/__init__.py:104: UserWarning: file system plugins are not loaded: unable to open file: libtensorflow_io.so, from paths: ['/opt/conda/lib/python3.10/site-packages/tensorflow_io/python/ops/libtensorflow_io.so']\n",
      "caused by: ['/opt/conda/lib/python3.10/site-packages/tensorflow_io/python/ops/libtensorflow_io.so: undefined symbol: _ZTVN10tensorflow13GcsFileSystemE']\n",
      "  warnings.warn(f\"file system plugins are not loaded: {e}\")\n"
     ]
    },
    {
     "name": "stdout",
     "output_type": "stream",
     "text": [
      "    00  000  008704050406  01223585334   02  0207  02073162414  021   03   04  \\\n",
      "0  0.0  0.0           0.0          0.0  0.0   0.0          0.0  0.0  0.0  0.0   \n",
      "1  0.0  0.0           0.0          0.0  0.0   0.0          0.0  0.0  0.0  0.0   \n",
      "2  0.0  0.0           0.0          0.0  0.0   0.0          0.0  0.0  0.0  0.0   \n",
      "3  0.0  0.0           0.0          0.0  0.0   0.0          0.0  0.0  0.0  0.0   \n",
      "4  0.0  0.0           0.0          0.0  0.0   0.0          0.0  0.0  0.0  0.0   \n",
      "\n",
      "   ...   ìä   ìï   ó_  û_thank  ûªm  ûªt  ûªve   ûï  ûïharry   ûò  \n",
      "0  ...  0.0  0.0  0.0      0.0  0.0  0.0   0.0  0.0      0.0  0.0  \n",
      "1  ...  0.0  0.0  0.0      0.0  0.0  0.0   0.0  0.0      0.0  0.0  \n",
      "2  ...  0.0  0.0  0.0      0.0  0.0  0.0   0.0  0.0      0.0  0.0  \n",
      "3  ...  0.0  0.0  0.0      0.0  0.0  0.0   0.0  0.0      0.0  0.0  \n",
      "4  ...  0.0  0.0  0.0      0.0  0.0  0.0   0.0  0.0      0.0  0.0  \n",
      "\n",
      "[5 rows x 5000 columns]\n"
     ]
    }
   ],
   "source": [
    "import pandas as pd\n",
    "import spacy\n",
    "from sklearn.feature_extraction.text import TfidfVectorizer\n",
    "\n",
    "# Load the dataset\n",
    "data = pd.read_csv(\"/kaggle/input/sms-spam-collection-dataset/spam.csv\", encoding='latin-1')\n",
    "text_data = data['v2']  # Assuming 'v2' is the column name containing the text data\n",
    "\n",
    "# Load spaCy's English model\n",
    "nlp = spacy.load(\"en_core_web_sm\")\n",
    "\n",
    "# Define a function for tokenization and lemmatization using spaCy\n",
    "def preprocess_text(text):\n",
    "    doc = nlp(text)\n",
    "    tokens = [token.lemma_ for token in doc]\n",
    "    return \" \".join(tokens)\n",
    "\n",
    "# Apply preprocessing to the text data\n",
    "preprocessed_text_data = [preprocess_text(text) for text in text_data]\n",
    "\n",
    "# Initialize the TF-IDF vectorizer\n",
    "tfidf_vectorizer = TfidfVectorizer(max_features=5000)  # Adjust max_features as needed\n",
    "\n",
    "# Convert preprocessed text to TF-IDF vectors\n",
    "tfidf_matrix = tfidf_vectorizer.fit_transform(preprocessed_text_data)\n",
    "\n",
    "# Optional: Convert the TF-IDF matrix to a DataFrame for better readability\n",
    "tfidf_df = pd.DataFrame(tfidf_matrix.toarray(), columns=tfidf_vectorizer.get_feature_names_out())\n",
    "\n",
    "# Print the first few rows of the TF-IDF DataFrame\n",
    "print(tfidf_df.head())"
   ]
  },
  {
   "cell_type": "markdown",
   "id": "4ac9a281",
   "metadata": {
    "papermill": {
     "duration": 0.007104,
     "end_time": "2023-08-24T01:58:38.037303",
     "exception": false,
     "start_time": "2023-08-24T01:58:38.030199",
     "status": "completed"
    },
    "tags": []
   },
   "source": [
    "Ensemble Methods"
   ]
  },
  {
   "cell_type": "code",
   "execution_count": 10,
   "id": "a3d1a47e",
   "metadata": {
    "execution": {
     "iopub.execute_input": "2023-08-24T01:58:38.054133Z",
     "iopub.status.busy": "2023-08-24T01:58:38.053712Z",
     "iopub.status.idle": "2023-08-24T01:58:38.478608Z",
     "shell.execute_reply": "2023-08-24T01:58:38.477450Z"
    },
    "papermill": {
     "duration": 0.43668,
     "end_time": "2023-08-24T01:58:38.481426",
     "exception": false,
     "start_time": "2023-08-24T01:58:38.044746",
     "status": "completed"
    },
    "tags": []
   },
   "outputs": [],
   "source": [
    "import pandas as pd\n",
    "from sklearn.model_selection import train_test_split\n",
    "from sklearn.feature_extraction.text import TfidfVectorizer\n",
    "from sklearn.ensemble import RandomForestClassifier, AdaBoostClassifier\n",
    "from sklearn.metrics import accuracy_score"
   ]
  },
  {
   "cell_type": "code",
   "execution_count": 11,
   "id": "75d9de08",
   "metadata": {
    "execution": {
     "iopub.execute_input": "2023-08-24T01:58:38.499000Z",
     "iopub.status.busy": "2023-08-24T01:58:38.497898Z",
     "iopub.status.idle": "2023-08-24T01:58:38.621943Z",
     "shell.execute_reply": "2023-08-24T01:58:38.620241Z"
    },
    "papermill": {
     "duration": 0.135894,
     "end_time": "2023-08-24T01:58:38.624982",
     "exception": false,
     "start_time": "2023-08-24T01:58:38.489088",
     "status": "completed"
    },
    "tags": []
   },
   "outputs": [],
   "source": [
    "# Preprocessing\n",
    "text_data = data['v2']\n",
    "labels = data['v1']\n",
    "tfidf_vectorizer = TfidfVectorizer(max_features=5000)\n",
    "tfidf_matrix = tfidf_vectorizer.fit_transform(text_data)\n",
    "\n",
    "# Split data into train and test sets\n",
    "X_train, X_test, y_train, y_test = train_test_split(tfidf_matrix, labels, test_size=0.2, random_state=42)"
   ]
  },
  {
   "cell_type": "code",
   "execution_count": 12,
   "id": "fa1fea4c",
   "metadata": {
    "execution": {
     "iopub.execute_input": "2023-08-24T01:58:38.645599Z",
     "iopub.status.busy": "2023-08-24T01:58:38.645219Z",
     "iopub.status.idle": "2023-08-24T01:58:41.375915Z",
     "shell.execute_reply": "2023-08-24T01:58:41.374115Z"
    },
    "papermill": {
     "duration": 2.743359,
     "end_time": "2023-08-24T01:58:41.378353",
     "exception": false,
     "start_time": "2023-08-24T01:58:38.634994",
     "status": "completed"
    },
    "tags": []
   },
   "outputs": [
    {
     "name": "stdout",
     "output_type": "stream",
     "text": [
      "Random Forest Accuracy: 0.9757847533632287\n"
     ]
    }
   ],
   "source": [
    "# Ensemble Method: Random Forest\n",
    "random_forest = RandomForestClassifier(n_estimators=100, random_state=42)\n",
    "random_forest.fit(X_train, y_train)\n",
    "y_pred_rf = random_forest.predict(X_test)\n",
    "accuracy_rf = accuracy_score(y_test, y_pred_rf)\n",
    "print(\"Random Forest Accuracy:\", accuracy_rf)"
   ]
  },
  {
   "cell_type": "code",
   "execution_count": 13,
   "id": "fcf8fc21",
   "metadata": {
    "execution": {
     "iopub.execute_input": "2023-08-24T01:58:41.395867Z",
     "iopub.status.busy": "2023-08-24T01:58:41.394619Z",
     "iopub.status.idle": "2023-08-24T01:58:42.788586Z",
     "shell.execute_reply": "2023-08-24T01:58:42.786887Z"
    },
    "papermill": {
     "duration": 1.405821,
     "end_time": "2023-08-24T01:58:42.791656",
     "exception": false,
     "start_time": "2023-08-24T01:58:41.385835",
     "status": "completed"
    },
    "tags": []
   },
   "outputs": [
    {
     "name": "stdout",
     "output_type": "stream",
     "text": [
      "AdaBoost Accuracy: 0.967713004484305\n"
     ]
    }
   ],
   "source": [
    "# Ensemble Method: AdaBoost\n",
    "adaboost = AdaBoostClassifier(n_estimators=50, random_state=42)\n",
    "adaboost.fit(X_train, y_train)\n",
    "y_pred_ab = adaboost.predict(X_test)\n",
    "accuracy_ab = accuracy_score(y_test, y_pred_ab)\n",
    "print(\"AdaBoost Accuracy:\", accuracy_ab)"
   ]
  },
  {
   "cell_type": "markdown",
   "id": "48888701",
   "metadata": {
    "papermill": {
     "duration": 0.007414,
     "end_time": "2023-08-24T01:58:42.806824",
     "exception": false,
     "start_time": "2023-08-24T01:58:42.799410",
     "status": "completed"
    },
    "tags": []
   },
   "source": [
    "Comparison"
   ]
  },
  {
   "cell_type": "code",
   "execution_count": 14,
   "id": "801d383b",
   "metadata": {
    "execution": {
     "iopub.execute_input": "2023-08-24T01:58:42.823751Z",
     "iopub.status.busy": "2023-08-24T01:58:42.823322Z",
     "iopub.status.idle": "2023-08-24T01:58:42.956300Z",
     "shell.execute_reply": "2023-08-24T01:58:42.955384Z"
    },
    "papermill": {
     "duration": 0.144785,
     "end_time": "2023-08-24T01:58:42.959020",
     "exception": false,
     "start_time": "2023-08-24T01:58:42.814235",
     "status": "completed"
    },
    "tags": []
   },
   "outputs": [],
   "source": [
    "import pandas as pd\n",
    "from sklearn.model_selection import train_test_split\n",
    "from sklearn.feature_extraction.text import TfidfVectorizer\n",
    "from sklearn.ensemble import RandomForestClassifier, AdaBoostClassifier\n",
    "from sklearn.metrics import accuracy_score\n",
    "\n",
    "# Load the dataset\n",
    "data = pd.read_csv(\"/kaggle/input/sms-spam-collection-dataset/spam.csv\", encoding='latin-1')\n",
    "\n",
    "# Preprocessing\n",
    "text_data = data['v2']\n",
    "labels = data['v1']\n",
    "tfidf_vectorizer = TfidfVectorizer(max_features=5000)\n",
    "tfidf_matrix = tfidf_vectorizer.fit_transform(text_data)"
   ]
  },
  {
   "cell_type": "code",
   "execution_count": 15,
   "id": "d3e9e8ee",
   "metadata": {
    "execution": {
     "iopub.execute_input": "2023-08-24T01:58:42.978549Z",
     "iopub.status.busy": "2023-08-24T01:58:42.977319Z",
     "iopub.status.idle": "2023-08-24T01:58:42.984641Z",
     "shell.execute_reply": "2023-08-24T01:58:42.983819Z"
    },
    "papermill": {
     "duration": 0.019097,
     "end_time": "2023-08-24T01:58:42.986689",
     "exception": false,
     "start_time": "2023-08-24T01:58:42.967592",
     "status": "completed"
    },
    "tags": []
   },
   "outputs": [],
   "source": [
    "# Split data into train and test sets\n",
    "X_train, X_test, y_train, y_test = train_test_split(tfidf_matrix, labels, test_size=0.2, random_state=42)"
   ]
  },
  {
   "cell_type": "code",
   "execution_count": 16,
   "id": "f3c62025",
   "metadata": {
    "execution": {
     "iopub.execute_input": "2023-08-24T01:58:43.004560Z",
     "iopub.status.busy": "2023-08-24T01:58:43.003382Z",
     "iopub.status.idle": "2023-08-24T01:58:45.703599Z",
     "shell.execute_reply": "2023-08-24T01:58:45.702688Z"
    },
    "papermill": {
     "duration": 2.711947,
     "end_time": "2023-08-24T01:58:45.706355",
     "exception": false,
     "start_time": "2023-08-24T01:58:42.994408",
     "status": "completed"
    },
    "tags": []
   },
   "outputs": [],
   "source": [
    "# Ensemble Method: Random Forest\n",
    "random_forest = RandomForestClassifier(n_estimators=100, random_state=42)\n",
    "random_forest.fit(X_train, y_train)\n",
    "y_pred_rf = random_forest.predict(X_test)\n",
    "accuracy_rf = accuracy_score(y_test, y_pred_rf)\n"
   ]
  },
  {
   "cell_type": "code",
   "execution_count": 17,
   "id": "c37dec89",
   "metadata": {
    "execution": {
     "iopub.execute_input": "2023-08-24T01:58:45.724394Z",
     "iopub.status.busy": "2023-08-24T01:58:45.724009Z",
     "iopub.status.idle": "2023-08-24T01:58:47.133789Z",
     "shell.execute_reply": "2023-08-24T01:58:47.132544Z"
    },
    "papermill": {
     "duration": 1.422783,
     "end_time": "2023-08-24T01:58:47.136996",
     "exception": false,
     "start_time": "2023-08-24T01:58:45.714213",
     "status": "completed"
    },
    "tags": []
   },
   "outputs": [],
   "source": [
    "# Ensemble Method: AdaBoost\n",
    "adaboost = AdaBoostClassifier(n_estimators=50, random_state=42)\n",
    "adaboost.fit(X_train, y_train)\n",
    "y_pred_ab = adaboost.predict(X_test)\n",
    "accuracy_ab = accuracy_score(y_test, y_pred_ab)"
   ]
  },
  {
   "cell_type": "code",
   "execution_count": 18,
   "id": "4961236d",
   "metadata": {
    "execution": {
     "iopub.execute_input": "2023-08-24T01:58:47.154523Z",
     "iopub.status.busy": "2023-08-24T01:58:47.154126Z",
     "iopub.status.idle": "2023-08-24T01:58:47.160554Z",
     "shell.execute_reply": "2023-08-24T01:58:47.159188Z"
    },
    "papermill": {
     "duration": 0.01814,
     "end_time": "2023-08-24T01:58:47.163010",
     "exception": false,
     "start_time": "2023-08-24T01:58:47.144870",
     "status": "completed"
    },
    "tags": []
   },
   "outputs": [
    {
     "name": "stdout",
     "output_type": "stream",
     "text": [
      "Random Forest Accuracy: 0.9757847533632287\n",
      "AdaBoost Accuracy: 0.967713004484305\n"
     ]
    }
   ],
   "source": [
    "# Compare Accuracies\n",
    "print(\"Random Forest Accuracy:\", accuracy_rf)\n",
    "print(\"AdaBoost Accuracy:\", accuracy_ab)"
   ]
  },
  {
   "cell_type": "code",
   "execution_count": 19,
   "id": "9a481ac2",
   "metadata": {
    "execution": {
     "iopub.execute_input": "2023-08-24T01:58:47.180219Z",
     "iopub.status.busy": "2023-08-24T01:58:47.179817Z",
     "iopub.status.idle": "2023-08-24T01:58:47.186435Z",
     "shell.execute_reply": "2023-08-24T01:58:47.185182Z"
    },
    "papermill": {
     "duration": 0.018277,
     "end_time": "2023-08-24T01:58:47.188962",
     "exception": false,
     "start_time": "2023-08-24T01:58:47.170685",
     "status": "completed"
    },
    "tags": []
   },
   "outputs": [
    {
     "name": "stdout",
     "output_type": "stream",
     "text": [
      "Random Forest performs better.\n"
     ]
    }
   ],
   "source": [
    "# Display comparison\n",
    "if accuracy_rf > accuracy_ab:\n",
    "    print(\"Random Forest performs better.\")\n",
    "elif accuracy_ab > accuracy_rf:\n",
    "    print(\"AdaBoost performs better.\")\n",
    "else:\n",
    "    print(\"Both methods have the same accuracy.\")"
   ]
  }
 ],
 "metadata": {
  "kernelspec": {
   "display_name": "Python 3",
   "language": "python",
   "name": "python3"
  },
  "language_info": {
   "codemirror_mode": {
    "name": "ipython",
    "version": 3
   },
   "file_extension": ".py",
   "mimetype": "text/x-python",
   "name": "python",
   "nbconvert_exporter": "python",
   "pygments_lexer": "ipython3",
   "version": "3.10.12"
  },
  "papermill": {
   "default_parameters": {},
   "duration": 88.723854,
   "end_time": "2023-08-24T01:58:50.316058",
   "environment_variables": {},
   "exception": null,
   "input_path": "__notebook__.ipynb",
   "output_path": "__notebook__.ipynb",
   "parameters": {},
   "start_time": "2023-08-24T01:57:21.592204",
   "version": "2.4.0"
  }
 },
 "nbformat": 4,
 "nbformat_minor": 5
}
